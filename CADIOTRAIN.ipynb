{
  "nbformat": 4,
  "nbformat_minor": 0,
  "metadata": {
    "colab": {
      "provenance": [],
      "machine_shape": "hm",
      "gpuType": "T4"
    },
    "kernelspec": {
      "name": "python3",
      "display_name": "Python 3"
    },
    "language_info": {
      "name": "python"
    },
    "accelerator": "GPU"
  },
  "cells": [
    {
      "cell_type": "markdown",
      "source": [
        "# **CARDIOVASCULAR DISEASE PREDICTION**\n",
        "\n",
        " My task will be to to create a machine learning model that helps indentify individuals who are prone to cadiovascular diseases."
      ],
      "metadata": {
        "id": "sF0USQACkoC0"
      }
    },
    {
      "cell_type": "markdown",
      "source": [
        "# **BENEFIT FOR ORGANIZATION**\n",
        "\n",
        "Being able to predict proness cardio  vascular disease is important to hospitals and their clients in that it helps prevent premature death and diasbilities that caused by these diseases if intervention is done early enough. this would result in an ovrall increase in health and would help people save on money they would have spent on medical procedures that help treat such diseases. Lastly this can help the company can a competitive advantage in the healthcare industry."
      ],
      "metadata": {
        "id": "-5BF0nTukuqD"
      }
    },
    {
      "cell_type": "markdown",
      "source": [
        "# **MACHINE LEARNING MACHINE LEARNING PROBLEM**\n",
        "\n",
        "\n",
        "My task will be to be able to predict whether an individual is at risk of developing cardiovascular diseases base on a number of factors.My predictions will be done between two classes so my output will be binary with 1 representating prone to vascular diseases and 0 not prone to vascular disease.To achieve by training four different models on the dataset and picking the model that performs best."
      ],
      "metadata": {
        "id": "29o03qT5k38T"
      }
    },
    {
      "cell_type": "markdown",
      "source": [
        "# **DATA COLLECTIONS**\n",
        "\n",
        "\n",
        "To create this model we need to obtain medical information: family history of cardiovascular disease, smoking history,cholestrol levels,blood pressure,glucose levels.\n",
        "demographic of people: Gender,Age,race/ethnicity,education level,income level.\n",
        "information about their lifestyle factors such as :Physical activity levels,diet,stress levels.\n",
        "To achieve this\n",
        "I used secondary data from the Cardiovascular-disease-dataset"
      ],
      "metadata": {
        "id": "v6HP9QuFskxE"
      }
    },
    {
      "cell_type": "markdown",
      "source": [
        "# **DATASET** https://www.kaggle.com/datasets/sulianova/cardiovascular-disease-dataset\n",
        "\n",
        "\n"
      ],
      "metadata": {
        "id": "Nk3ncVawkVCs"
      }
    },
    {
      "cell_type": "markdown",
      "source": [
        "**LIBRARIES**\n",
        "\n",
        "I imported python libraries that i will use in my machine learning task here."
      ],
      "metadata": {
        "id": "UBPwfiselAgZ"
      }
    },
    {
      "cell_type": "code",
      "source": [
        "import pandas as pd\n",
        "import numpy as np\n",
        "from sklearn.model_selection import train_test_split\n",
        "from sklearn.preprocessing import StandardScaler\n",
        "from sklearn.linear_model import LogisticRegression\n",
        "from sklearn.svm import SVC\n",
        "from sklearn.neighbors import KNeighborsClassifier\n",
        "from sklearn.tree import DecisionTreeClassifier\n",
        "from sklearn.ensemble import RandomForestClassifier\n",
        "from sklearn.metrics import accuracy_score, precision_score, recall_score, f1_score\n",
        "from sklearn.model_selection import GridSearchCV\n",
        "from sklearn.linear_model import LogisticRegression\n",
        "from sklearn.metrics import accuracy_score\n",
        "import seaborn as sns\n",
        "from sklearn.model_selection import GridSearchCV\n",
        "from sklearn.feature_selection import SelectFromModel"
      ],
      "metadata": {
        "id": "-41pIix61Lhu"
      },
      "execution_count": null,
      "outputs": []
    },
    {
      "cell_type": "markdown",
      "source": [
        "# **DATA EXPLORATION**\n",
        "\n",
        "I first loaded the dataset using pandas,and displayed the first 5 entries to look at the format of the dataset.\n"
      ],
      "metadata": {
        "id": "nN17tmGClQ2r"
      }
    },
    {
      "cell_type": "code",
      "source": [
        "data = pd.read_csv(\"/content/cardio_train.csv\",sep=\";\")\n",
        "data = data.set_index('id')\n",
        "data.head()#displays first five rows of dataset"
      ],
      "metadata": {
        "id": "62-b6V_c1MLQ",
        "colab": {
          "base_uri": "https://localhost:8080/",
          "height": 238
        },
        "outputId": "8668ff45-9566-4ed0-a49c-f077e3f85129"
      },
      "execution_count": null,
      "outputs": [
        {
          "output_type": "execute_result",
          "data": {
            "text/plain": [
              "      age  gender  height  weight  ap_hi  ap_lo  cholesterol  gluc  smoke  \\\n",
              "id                                                                          \n",
              "0   18393       2     168    62.0    110     80            1     1      0   \n",
              "1   20228       1     156    85.0    140     90            3     1      0   \n",
              "2   18857       1     165    64.0    130     70            3     1      0   \n",
              "3   17623       2     169    82.0    150    100            1     1      0   \n",
              "4   17474       1     156    56.0    100     60            1     1      0   \n",
              "\n",
              "    alco  active  cardio  \n",
              "id                        \n",
              "0      0       1       0  \n",
              "1      0       1       1  \n",
              "2      0       0       1  \n",
              "3      0       1       1  \n",
              "4      0       0       0  "
            ],
            "text/html": [
              "\n",
              "  <div id=\"df-1991e871-5e5c-4e16-be71-883284b68beb\" class=\"colab-df-container\">\n",
              "    <div>\n",
              "<style scoped>\n",
              "    .dataframe tbody tr th:only-of-type {\n",
              "        vertical-align: middle;\n",
              "    }\n",
              "\n",
              "    .dataframe tbody tr th {\n",
              "        vertical-align: top;\n",
              "    }\n",
              "\n",
              "    .dataframe thead th {\n",
              "        text-align: right;\n",
              "    }\n",
              "</style>\n",
              "<table border=\"1\" class=\"dataframe\">\n",
              "  <thead>\n",
              "    <tr style=\"text-align: right;\">\n",
              "      <th></th>\n",
              "      <th>age</th>\n",
              "      <th>gender</th>\n",
              "      <th>height</th>\n",
              "      <th>weight</th>\n",
              "      <th>ap_hi</th>\n",
              "      <th>ap_lo</th>\n",
              "      <th>cholesterol</th>\n",
              "      <th>gluc</th>\n",
              "      <th>smoke</th>\n",
              "      <th>alco</th>\n",
              "      <th>active</th>\n",
              "      <th>cardio</th>\n",
              "    </tr>\n",
              "    <tr>\n",
              "      <th>id</th>\n",
              "      <th></th>\n",
              "      <th></th>\n",
              "      <th></th>\n",
              "      <th></th>\n",
              "      <th></th>\n",
              "      <th></th>\n",
              "      <th></th>\n",
              "      <th></th>\n",
              "      <th></th>\n",
              "      <th></th>\n",
              "      <th></th>\n",
              "      <th></th>\n",
              "    </tr>\n",
              "  </thead>\n",
              "  <tbody>\n",
              "    <tr>\n",
              "      <th>0</th>\n",
              "      <td>18393</td>\n",
              "      <td>2</td>\n",
              "      <td>168</td>\n",
              "      <td>62.0</td>\n",
              "      <td>110</td>\n",
              "      <td>80</td>\n",
              "      <td>1</td>\n",
              "      <td>1</td>\n",
              "      <td>0</td>\n",
              "      <td>0</td>\n",
              "      <td>1</td>\n",
              "      <td>0</td>\n",
              "    </tr>\n",
              "    <tr>\n",
              "      <th>1</th>\n",
              "      <td>20228</td>\n",
              "      <td>1</td>\n",
              "      <td>156</td>\n",
              "      <td>85.0</td>\n",
              "      <td>140</td>\n",
              "      <td>90</td>\n",
              "      <td>3</td>\n",
              "      <td>1</td>\n",
              "      <td>0</td>\n",
              "      <td>0</td>\n",
              "      <td>1</td>\n",
              "      <td>1</td>\n",
              "    </tr>\n",
              "    <tr>\n",
              "      <th>2</th>\n",
              "      <td>18857</td>\n",
              "      <td>1</td>\n",
              "      <td>165</td>\n",
              "      <td>64.0</td>\n",
              "      <td>130</td>\n",
              "      <td>70</td>\n",
              "      <td>3</td>\n",
              "      <td>1</td>\n",
              "      <td>0</td>\n",
              "      <td>0</td>\n",
              "      <td>0</td>\n",
              "      <td>1</td>\n",
              "    </tr>\n",
              "    <tr>\n",
              "      <th>3</th>\n",
              "      <td>17623</td>\n",
              "      <td>2</td>\n",
              "      <td>169</td>\n",
              "      <td>82.0</td>\n",
              "      <td>150</td>\n",
              "      <td>100</td>\n",
              "      <td>1</td>\n",
              "      <td>1</td>\n",
              "      <td>0</td>\n",
              "      <td>0</td>\n",
              "      <td>1</td>\n",
              "      <td>1</td>\n",
              "    </tr>\n",
              "    <tr>\n",
              "      <th>4</th>\n",
              "      <td>17474</td>\n",
              "      <td>1</td>\n",
              "      <td>156</td>\n",
              "      <td>56.0</td>\n",
              "      <td>100</td>\n",
              "      <td>60</td>\n",
              "      <td>1</td>\n",
              "      <td>1</td>\n",
              "      <td>0</td>\n",
              "      <td>0</td>\n",
              "      <td>0</td>\n",
              "      <td>0</td>\n",
              "    </tr>\n",
              "  </tbody>\n",
              "</table>\n",
              "</div>\n",
              "    <div class=\"colab-df-buttons\">\n",
              "\n",
              "  <div class=\"colab-df-container\">\n",
              "    <button class=\"colab-df-convert\" onclick=\"convertToInteractive('df-1991e871-5e5c-4e16-be71-883284b68beb')\"\n",
              "            title=\"Convert this dataframe to an interactive table.\"\n",
              "            style=\"display:none;\">\n",
              "\n",
              "  <svg xmlns=\"http://www.w3.org/2000/svg\" height=\"24px\" viewBox=\"0 -960 960 960\">\n",
              "    <path d=\"M120-120v-720h720v720H120Zm60-500h600v-160H180v160Zm220 220h160v-160H400v160Zm0 220h160v-160H400v160ZM180-400h160v-160H180v160Zm440 0h160v-160H620v160ZM180-180h160v-160H180v160Zm440 0h160v-160H620v160Z\"/>\n",
              "  </svg>\n",
              "    </button>\n",
              "\n",
              "  <style>\n",
              "    .colab-df-container {\n",
              "      display:flex;\n",
              "      gap: 12px;\n",
              "    }\n",
              "\n",
              "    .colab-df-convert {\n",
              "      background-color: #E8F0FE;\n",
              "      border: none;\n",
              "      border-radius: 50%;\n",
              "      cursor: pointer;\n",
              "      display: none;\n",
              "      fill: #1967D2;\n",
              "      height: 32px;\n",
              "      padding: 0 0 0 0;\n",
              "      width: 32px;\n",
              "    }\n",
              "\n",
              "    .colab-df-convert:hover {\n",
              "      background-color: #E2EBFA;\n",
              "      box-shadow: 0px 1px 2px rgba(60, 64, 67, 0.3), 0px 1px 3px 1px rgba(60, 64, 67, 0.15);\n",
              "      fill: #174EA6;\n",
              "    }\n",
              "\n",
              "    .colab-df-buttons div {\n",
              "      margin-bottom: 4px;\n",
              "    }\n",
              "\n",
              "    [theme=dark] .colab-df-convert {\n",
              "      background-color: #3B4455;\n",
              "      fill: #D2E3FC;\n",
              "    }\n",
              "\n",
              "    [theme=dark] .colab-df-convert:hover {\n",
              "      background-color: #434B5C;\n",
              "      box-shadow: 0px 1px 3px 1px rgba(0, 0, 0, 0.15);\n",
              "      filter: drop-shadow(0px 1px 2px rgba(0, 0, 0, 0.3));\n",
              "      fill: #FFFFFF;\n",
              "    }\n",
              "  </style>\n",
              "\n",
              "    <script>\n",
              "      const buttonEl =\n",
              "        document.querySelector('#df-1991e871-5e5c-4e16-be71-883284b68beb button.colab-df-convert');\n",
              "      buttonEl.style.display =\n",
              "        google.colab.kernel.accessAllowed ? 'block' : 'none';\n",
              "\n",
              "      async function convertToInteractive(key) {\n",
              "        const element = document.querySelector('#df-1991e871-5e5c-4e16-be71-883284b68beb');\n",
              "        const dataTable =\n",
              "          await google.colab.kernel.invokeFunction('convertToInteractive',\n",
              "                                                    [key], {});\n",
              "        if (!dataTable) return;\n",
              "\n",
              "        const docLinkHtml = 'Like what you see? Visit the ' +\n",
              "          '<a target=\"_blank\" href=https://colab.research.google.com/notebooks/data_table.ipynb>data table notebook</a>'\n",
              "          + ' to learn more about interactive tables.';\n",
              "        element.innerHTML = '';\n",
              "        dataTable['output_type'] = 'display_data';\n",
              "        await google.colab.output.renderOutput(dataTable, element);\n",
              "        const docLink = document.createElement('div');\n",
              "        docLink.innerHTML = docLinkHtml;\n",
              "        element.appendChild(docLink);\n",
              "      }\n",
              "    </script>\n",
              "  </div>\n",
              "\n",
              "\n",
              "<div id=\"df-6d0dfe91-119b-48dd-ad96-abffb36e78ba\">\n",
              "  <button class=\"colab-df-quickchart\" onclick=\"quickchart('df-6d0dfe91-119b-48dd-ad96-abffb36e78ba')\"\n",
              "            title=\"Suggest charts\"\n",
              "            style=\"display:none;\">\n",
              "\n",
              "<svg xmlns=\"http://www.w3.org/2000/svg\" height=\"24px\"viewBox=\"0 0 24 24\"\n",
              "     width=\"24px\">\n",
              "    <g>\n",
              "        <path d=\"M19 3H5c-1.1 0-2 .9-2 2v14c0 1.1.9 2 2 2h14c1.1 0 2-.9 2-2V5c0-1.1-.9-2-2-2zM9 17H7v-7h2v7zm4 0h-2V7h2v10zm4 0h-2v-4h2v4z\"/>\n",
              "    </g>\n",
              "</svg>\n",
              "  </button>\n",
              "\n",
              "<style>\n",
              "  .colab-df-quickchart {\n",
              "      --bg-color: #E8F0FE;\n",
              "      --fill-color: #1967D2;\n",
              "      --hover-bg-color: #E2EBFA;\n",
              "      --hover-fill-color: #174EA6;\n",
              "      --disabled-fill-color: #AAA;\n",
              "      --disabled-bg-color: #DDD;\n",
              "  }\n",
              "\n",
              "  [theme=dark] .colab-df-quickchart {\n",
              "      --bg-color: #3B4455;\n",
              "      --fill-color: #D2E3FC;\n",
              "      --hover-bg-color: #434B5C;\n",
              "      --hover-fill-color: #FFFFFF;\n",
              "      --disabled-bg-color: #3B4455;\n",
              "      --disabled-fill-color: #666;\n",
              "  }\n",
              "\n",
              "  .colab-df-quickchart {\n",
              "    background-color: var(--bg-color);\n",
              "    border: none;\n",
              "    border-radius: 50%;\n",
              "    cursor: pointer;\n",
              "    display: none;\n",
              "    fill: var(--fill-color);\n",
              "    height: 32px;\n",
              "    padding: 0;\n",
              "    width: 32px;\n",
              "  }\n",
              "\n",
              "  .colab-df-quickchart:hover {\n",
              "    background-color: var(--hover-bg-color);\n",
              "    box-shadow: 0 1px 2px rgba(60, 64, 67, 0.3), 0 1px 3px 1px rgba(60, 64, 67, 0.15);\n",
              "    fill: var(--button-hover-fill-color);\n",
              "  }\n",
              "\n",
              "  .colab-df-quickchart-complete:disabled,\n",
              "  .colab-df-quickchart-complete:disabled:hover {\n",
              "    background-color: var(--disabled-bg-color);\n",
              "    fill: var(--disabled-fill-color);\n",
              "    box-shadow: none;\n",
              "  }\n",
              "\n",
              "  .colab-df-spinner {\n",
              "    border: 2px solid var(--fill-color);\n",
              "    border-color: transparent;\n",
              "    border-bottom-color: var(--fill-color);\n",
              "    animation:\n",
              "      spin 1s steps(1) infinite;\n",
              "  }\n",
              "\n",
              "  @keyframes spin {\n",
              "    0% {\n",
              "      border-color: transparent;\n",
              "      border-bottom-color: var(--fill-color);\n",
              "      border-left-color: var(--fill-color);\n",
              "    }\n",
              "    20% {\n",
              "      border-color: transparent;\n",
              "      border-left-color: var(--fill-color);\n",
              "      border-top-color: var(--fill-color);\n",
              "    }\n",
              "    30% {\n",
              "      border-color: transparent;\n",
              "      border-left-color: var(--fill-color);\n",
              "      border-top-color: var(--fill-color);\n",
              "      border-right-color: var(--fill-color);\n",
              "    }\n",
              "    40% {\n",
              "      border-color: transparent;\n",
              "      border-right-color: var(--fill-color);\n",
              "      border-top-color: var(--fill-color);\n",
              "    }\n",
              "    60% {\n",
              "      border-color: transparent;\n",
              "      border-right-color: var(--fill-color);\n",
              "    }\n",
              "    80% {\n",
              "      border-color: transparent;\n",
              "      border-right-color: var(--fill-color);\n",
              "      border-bottom-color: var(--fill-color);\n",
              "    }\n",
              "    90% {\n",
              "      border-color: transparent;\n",
              "      border-bottom-color: var(--fill-color);\n",
              "    }\n",
              "  }\n",
              "</style>\n",
              "\n",
              "  <script>\n",
              "    async function quickchart(key) {\n",
              "      const quickchartButtonEl =\n",
              "        document.querySelector('#' + key + ' button');\n",
              "      quickchartButtonEl.disabled = true;  // To prevent multiple clicks.\n",
              "      quickchartButtonEl.classList.add('colab-df-spinner');\n",
              "      try {\n",
              "        const charts = await google.colab.kernel.invokeFunction(\n",
              "            'suggestCharts', [key], {});\n",
              "      } catch (error) {\n",
              "        console.error('Error during call to suggestCharts:', error);\n",
              "      }\n",
              "      quickchartButtonEl.classList.remove('colab-df-spinner');\n",
              "      quickchartButtonEl.classList.add('colab-df-quickchart-complete');\n",
              "    }\n",
              "    (() => {\n",
              "      let quickchartButtonEl =\n",
              "        document.querySelector('#df-6d0dfe91-119b-48dd-ad96-abffb36e78ba button');\n",
              "      quickchartButtonEl.style.display =\n",
              "        google.colab.kernel.accessAllowed ? 'block' : 'none';\n",
              "    })();\n",
              "  </script>\n",
              "</div>\n",
              "    </div>\n",
              "  </div>\n"
            ]
          },
          "metadata": {},
          "execution_count": 6
        }
      ]
    },
    {
      "cell_type": "markdown",
      "source": [
        "**CHECKING FOR IMBALACE**\n",
        "\n",
        "I checked for imbalance between the two labels.An imbalance in the dataset which would mean a difference of more than 1% difference in the total count of each of the two labels."
      ],
      "metadata": {
        "id": "JOz5VvERoSWW"
      }
    },
    {
      "cell_type": "code",
      "source": [
        "#a count of each individual label\n",
        "n_positive = len(data[data['cardio'] == 1])\n",
        "n_negative = len(data[data['cardio'] == 0])\n",
        "\n",
        "# calculating the ratio of the positive label to teh negative.\n",
        "imbalance_ratio = n_positive / n_negative\n",
        "\n",
        "print(f\"The imbalance ratio is {imbalance_ratio:.4f}\")\n",
        "\n",
        "# Calculating the percentage of the positive lable\n",
        "positive_percentage = 100 * round(n_positive / (n_positive + n_negative), 4)\n",
        "print(f\"Percentage of the positive class: {positive_percentage:.4f}%\")\n",
        "#calculating the percentage of the negative label\n",
        "negative_percentage = 100 * round(n_negative / (n_positive + n_negative), 4)\n",
        "print(f\"Percentage of the negative class: {negative_percentage:.4f}%\")\n",
        "\n",
        "# Creating a bar plot of the distribution of the two labels\n",
        "sns.barplot(x=data['cardio'].value_counts().index, y=data['cardio'].value_counts().values)\n"
      ],
      "metadata": {
        "id": "to8tzzz72krD",
        "colab": {
          "base_uri": "https://localhost:8080/",
          "height": 518
        },
        "outputId": "e399a0af-23cb-4820-ba5c-bb01108d10d5"
      },
      "execution_count": null,
      "outputs": [
        {
          "output_type": "stream",
          "name": "stdout",
          "text": [
            "The imbalance ratio is 0.9988\n",
            "Percentage of the positive class: 49.9700%\n",
            "Percentage of the negative class: 50.0300%\n"
          ]
        },
        {
          "output_type": "execute_result",
          "data": {
            "text/plain": [
              "<Axes: xlabel='None'>"
            ]
          },
          "metadata": {},
          "execution_count": 7
        },
        {
          "output_type": "display_data",
          "data": {
            "text/plain": [
              "<Figure size 640x480 with 1 Axes>"
            ],
            "image/png": "[encoded data removed]"
          },
          "metadata": {}
        }
      ]
    },
    {
      "cell_type": "markdown",
      "source": [
        "The imbalance was found to be less than 1% which means that the imbalance could lead to a biase of the models towards one label."
      ],
      "metadata": {
        "id": "NjNKNf7brTuX"
      }
    },
    {
      "cell_type": "code",
      "source": [
        "data.shape"
      ],
      "metadata": {
        "id": "6gxBicNb1NyM",
        "colab": {
          "base_uri": "https://localhost:8080/"
        },
        "outputId": "3c4949df-a14d-4970-ed8a-86b2ef4f05e5"
      },
      "execution_count": null,
      "outputs": [
        {
          "output_type": "execute_result",
          "data": {
            "text/plain": [
              "(70000, 12)"
            ]
          },
          "metadata": {},
          "execution_count": 8
        }
      ]
    },
    {
      "cell_type": "markdown",
      "source": [
        "The dataset has has 12 columns and 70000 row"
      ],
      "metadata": {
        "id": "zdjTLljs_1Fs"
      }
    },
    {
      "cell_type": "markdown",
      "source": [
        "I used the isnull() function to each column  to return a boolean value to indicate wheather each cell is missing,the using the .sum() to sum up the values in the resulting series to get the total number of missing values in each column of my dataset."
      ],
      "metadata": {
        "id": "MfJOUaFuABc4"
      }
    },
    {
      "cell_type": "code",
      "source": [
        "result = data.isnull().sum()\n",
        "print(result)"
      ],
      "metadata": {
        "id": "PDBJaWac3Nn9",
        "colab": {
          "base_uri": "https://localhost:8080/"
        },
        "outputId": "8521d646-2dfa-4065-85e9-b3217c6dec45"
      },
      "execution_count": null,
      "outputs": [
        {
          "output_type": "stream",
          "name": "stdout",
          "text": [
            "age            0\n",
            "gender         0\n",
            "height         0\n",
            "weight         0\n",
            "ap_hi          0\n",
            "ap_lo          0\n",
            "cholesterol    0\n",
            "gluc           0\n",
            "smoke          0\n",
            "alco           0\n",
            "active         0\n",
            "cardio         0\n",
            "dtype: int64\n"
          ]
        }
      ]
    },
    {
      "cell_type": "markdown",
      "source": [
        "The dataset does not have any missing values."
      ],
      "metadata": {
        "id": "aAIz6SbnM5ZR"
      }
    },
    {
      "cell_type": "markdown",
      "source": [
        "# **PREPROCESSING**"
      ],
      "metadata": {
        "id": "2jDVIhFy-TPZ"
      }
    },
    {
      "cell_type": "markdown",
      "source": [
        "**SPLITTING DATA INTO TRAIN AND TEST**\n",
        "\n",
        "We split the dataset into train ,validation and test set. the train set to be used to train the dataset, the validation to check how well the models perfom. I will pick the model that perfoms best and use it on the test data to see how well it perfoms to predict cardiovascular disease. I split the data such that the train was 70% of the dataset and  with the remaining 30% further devided into validation and test in an 3:7 ration respectively.\n"
      ],
      "metadata": {
        "id": "yrE6s5Doloam"
      }
    },
    {
      "cell_type": "code",
      "source": [
        "#I seperated the target label and features with y the being the target variable\n",
        "X = data.drop('cardio', axis=1)  #these are the Features\n",
        "y = data['cardio']  #this is the target variable\n",
        "\n",
        "#I Split the dataset into training, validation, and testing sets\n",
        "X_train, X_temp, y_train, y_temp = train_test_split(X, y, test_size=0.3, random_state=42)\n",
        "X_val, X_test, y_val, y_test = train_test_split(X_temp, y_temp, test_size=0.7, random_state=42)\n"
      ],
      "metadata": {
        "id": "ygalyIlNaFUy"
      },
      "execution_count": null,
      "outputs": []
    },
    {
      "cell_type": "code",
      "source": [
        "X_train.shape"
      ],
      "metadata": {
        "id": "OQ038q7d3_69",
        "colab": {
          "base_uri": "https://localhost:8080/"
        },
        "outputId": "406fa092-4fb1-4c73-86f0-f5641dc22f96"
      },
      "execution_count": null,
      "outputs": [
        {
          "output_type": "execute_result",
          "data": {
            "text/plain": [
              "(49000, 11)"
            ]
          },
          "metadata": {},
          "execution_count": 11
        }
      ]
    },
    {
      "cell_type": "code",
      "source": [
        "X_val.shape"
      ],
      "metadata": {
        "id": "cKhn7NhB5iAM",
        "colab": {
          "base_uri": "https://localhost:8080/"
        },
        "outputId": "41cc2bb1-67d5-4e4f-9add-d3ca588d23ab"
      },
      "execution_count": null,
      "outputs": [
        {
          "output_type": "execute_result",
          "data": {
            "text/plain": [
              "(6300, 11)"
            ]
          },
          "metadata": {},
          "execution_count": 12
        }
      ]
    },
    {
      "cell_type": "code",
      "source": [
        "X_test.shape"
      ],
      "metadata": {
        "id": "OsUMWS9d4_gI",
        "colab": {
          "base_uri": "https://localhost:8080/"
        },
        "outputId": "9ea4c303-a710-4585-f5b1-a39dd3386170"
      },
      "execution_count": null,
      "outputs": [
        {
          "output_type": "execute_result",
          "data": {
            "text/plain": [
              "(14700, 11)"
            ]
          },
          "metadata": {},
          "execution_count": 13
        }
      ]
    },
    {
      "cell_type": "markdown",
      "source": [
        "**ONE-HOT ENCODING**\n",
        "\n",
        "HOT-ENCODING was not necessary due to there not being any categorical features that we needed to have turned into numerical data."
      ],
      "metadata": {
        "id": "PtfXarFA33xv"
      }
    },
    {
      "cell_type": "markdown",
      "source": [
        "**STANDARD SCALER**\n",
        "\n",
        "i used a standard scaler to standardise the numerical features of the train, validation and testset to make it so the they hve a mean of 0 and stardard devision of 1 as a way to normalise the distribution of the features. This makes them more comparabe to each other.\n",
        "\n",
        "The advantages of this is to imrove the the performace of odels,enhance numerical stability and normalize the data for different algorithms as it makes a consistent representation of features across different machines learning algarithms."
      ],
      "metadata": {
        "id": "kdesLWKvlfRF"
      }
    },
    {
      "cell_type": "code",
      "source": [
        "#creating the scaler\n",
        "scaler = StandardScaler()\n",
        "#transfomring the trainsets\n",
        "X_train_scaled = scaler.fit_transform(X_train)\n",
        "X_val_scaled = scaler.transform(X_val)\n",
        "X_test_scaled = scaler.transform(X_test)"
      ],
      "metadata": {
        "id": "vmI6o3GU1O9h"
      },
      "execution_count": null,
      "outputs": []
    },
    {
      "cell_type": "markdown",
      "source": [
        "**DIMENTIONAL REDUCTION**\n",
        "\n",
        "Due to the features being too few we do not need dimentionality reduction"
      ],
      "metadata": {
        "id": "W44xo2sBdg9d"
      }
    },
    {
      "cell_type": "markdown",
      "source": [
        "**LOGISTIC REGRESSION**\n",
        "\n",
        "This is a regression model that uses a sigmoid funtion to map real valued numbers to a value between 0 and 1.It creates a line that separates two classes in this case the classes being prone to cardiovascular disease and not prone to cardiovascular disease.\n"
      ],
      "metadata": {
        "id": "f_NONUsll2sL"
      }
    },
    {
      "cell_type": "code",
      "source": [
        "#we first create the logistic regressor\n",
        "logreg_model = LogisticRegression()\n",
        "#then use this on the trainset\n",
        "logreg_model.fit(X_train_scaled, y_train)\n",
        "y_pred = logreg_model.predict(X_val_scaled)"
      ],
      "metadata": {
        "id": "XVBsPK311RJI"
      },
      "execution_count": null,
      "outputs": []
    },
    {
      "cell_type": "code",
      "source": [
        "accuracy = accuracy_score(y_val, y_pred)\n",
        "precision = precision_score(y_val, y_pred)\n",
        "recall = recall_score(y_val, y_pred)\n",
        "f1 = f1_score(y_val, y_pred)"
      ],
      "metadata": {
        "id": "_Hue2_VkT9M0"
      },
      "execution_count": null,
      "outputs": []
    },
    {
      "cell_type": "code",
      "source": [
        "print(\"Accuracy:\", accuracy)\n",
        "print(\"Precision:\", precision)\n",
        "print(\"Recall:\", recall)\n",
        "print('F1 Score:', f1)"
      ],
      "metadata": {
        "id": "tD-RjG8CVBEw",
        "colab": {
          "base_uri": "https://localhost:8080/"
        },
        "outputId": "2cfc015a-5928-4fd4-c9b2-391e70d75bb6"
      },
      "execution_count": null,
      "outputs": [
        {
          "output_type": "stream",
          "name": "stdout",
          "text": [
            "Accuracy: 0.7122222222222222\n",
            "Precision: 0.722652305621003\n",
            "Recall: 0.6846301020408163\n",
            "F1 Score: 0.703127558539381\n"
          ]
        }
      ]
    },
    {
      "cell_type": "markdown",
      "source": [
        "**SUPPORT VECTOR MACHINES**\n",
        "\n",
        "This is a model that is used for both regression and classificaton. IT classifies by finding the optimal hyperplane that separates data pointss to different classes(which is a line in two dimentions but a hyperplane in multiple dimensions)."
      ],
      "metadata": {
        "id": "d9sOvD_al8KO"
      }
    },
    {
      "cell_type": "code",
      "source": [
        "#We created the SVM\n",
        "svm_model = SVC()\n",
        "#then train the model\n",
        "svm_model.fit(X_train_scaled, y_train)\n",
        "\n",
        "\n",
        "# We make the prediction\n",
        "y_pred_svm = svm_model.predict(X_val_scaled)\n"
      ],
      "metadata": {
        "id": "BGpYjBbmSHnV"
      },
      "execution_count": null,
      "outputs": []
    },
    {
      "cell_type": "code",
      "source": [
        "# Evaluating the model\n",
        "accuracy_svm = accuracy_score(y_val, y_pred_svm)\n",
        "precision_svm = precision_score(y_val, y_pred_svm)\n",
        "recall_svm = recall_score(y_val, y_pred_svm)\n",
        "f1_svm = f1_score(y_val, y_pred_svm)"
      ],
      "metadata": {
        "id": "0OWgSChgYBnz"
      },
      "execution_count": null,
      "outputs": []
    },
    {
      "cell_type": "code",
      "source": [
        "# Print the results\n",
        "print('SVM Accuracy:', accuracy_svm)\n",
        "print('SVM Precision:', precision_svm)\n",
        "print('SVM Recall:', recall_svm)\n",
        "print('SVM F1 Score:', f1_svm)"
      ],
      "metadata": {
        "id": "Y5jV6OudYHt9",
        "colab": {
          "base_uri": "https://localhost:8080/"
        },
        "outputId": "7261d008-1e96-470d-b0dd-51e463976455"
      },
      "execution_count": null,
      "outputs": [
        {
          "output_type": "stream",
          "name": "stdout",
          "text": [
            "SVM Accuracy: 0.726984126984127\n",
            "SVM Precision: 0.7309197651663405\n",
            "SVM Recall: 0.7146045918367347\n",
            "SVM F1 Score: 0.7226701064172847\n"
          ]
        }
      ]
    },
    {
      "cell_type": "markdown",
      "source": [
        "**K-NEAREST NEIGHBOR**\n",
        "\n",
        "\n",
        "KNN is a non-parametric supervised learning algorithm that works by assiging a new data point to a class common among its neighbors in a given training set.\n",
        "It is very effective for both regression and classification problems but requires a high level of computational power for larger datasets since it has to calculate the distance between all new data points and all training data points."
      ],
      "metadata": {
        "id": "49uHLO2GmAzX"
      }
    },
    {
      "cell_type": "code",
      "source": [
        "knn_model = KNeighborsClassifier()\n",
        "#training my KNN model\n",
        "knn_model.fit(X_train_scaled, y_train)\n",
        "\n",
        "y_pred_knn = knn_model.predict(X_val_scaled)"
      ],
      "metadata": {
        "id": "s6WJA_HoSIRy"
      },
      "execution_count": null,
      "outputs": []
    },
    {
      "cell_type": "code",
      "source": [
        "# Evaluating the model\n",
        "accuracy_knn = accuracy_score(y_val, y_pred_knn)\n",
        "precision_knn = precision_score(y_val, y_pred_knn)\n",
        "recall_knn = recall_score(y_val, y_pred_knn)\n",
        "f1_knn = f1_score(y_val, y_pred_knn)"
      ],
      "metadata": {
        "id": "HN1b4UWvcHP-"
      },
      "execution_count": null,
      "outputs": []
    },
    {
      "cell_type": "code",
      "source": [
        "print('k-NN Accuracy:', accuracy_knn)\n",
        "print('k-NN Precision:', precision_knn)\n",
        "print('k-NN Recall:', recall_knn)\n",
        "print('k-NN F1 Score:', f1_knn)"
      ],
      "metadata": {
        "id": "ICvtcdWbcL-q",
        "colab": {
          "base_uri": "https://localhost:8080/"
        },
        "outputId": "554304e4-8aad-4e01-fe33-26b93d7c8123"
      },
      "execution_count": null,
      "outputs": [
        {
          "output_type": "stream",
          "name": "stdout",
          "text": [
            "k-NN Accuracy: 0.6557142857142857\n",
            "k-NN Precision: 0.6578517793013385\n",
            "k-NN Recall: 0.6425382653061225\n",
            "k-NN F1 Score: 0.6501048556218745\n"
          ]
        }
      ]
    },
    {
      "cell_type": "markdown",
      "source": [
        "**DECISION TREES**\n",
        "\n",
        "Decision trees are supervised learning algorithms that can be use for classification and are very popular for simplicity and interpretability.They do not require knowledge about ML to interprete them"
      ],
      "metadata": {
        "id": "crFqRvIoccFj"
      }
    },
    {
      "cell_type": "code",
      "source": [
        "dt_model = DecisionTreeClassifier()\n",
        "#training the decision tree on the train data\n",
        "dt_model.fit(X_train_scaled, y_train)\n",
        "\n",
        "#making the predictions on the validation set\n",
        "y_pred_dt = dt_model.predict(X_val_scaled)\n"
      ],
      "metadata": {
        "id": "nIwFqwHcc1J5"
      },
      "execution_count": null,
      "outputs": []
    },
    {
      "cell_type": "code",
      "source": [
        "# Evaluating the model\n",
        "accuracy_dt = accuracy_score(y_val, y_pred_dt)\n",
        "precision_dt = precision_score(y_val, y_pred_dt)\n",
        "recall_dt = recall_score(y_val, y_pred_dt)\n",
        "f1_dt = f1_score(y_val, y_pred_dt)"
      ],
      "metadata": {
        "id": "5m6HyI1kdBQm"
      },
      "execution_count": null,
      "outputs": []
    },
    {
      "cell_type": "code",
      "source": [
        "# Printing the results\n",
        "print('Decision Tree Accuracy:', accuracy_dt)\n",
        "print('Decision Tree Precision:', precision_dt)\n",
        "print('Decision Tree Recall:', recall_dt)\n",
        "print('Decision Tree F1 Score:', f1_dt)"
      ],
      "metadata": {
        "id": "jvlsXXXadLUf",
        "colab": {
          "base_uri": "https://localhost:8080/"
        },
        "outputId": "5bf7964d-6992-4f5d-8926-456aadaa7d05"
      },
      "execution_count": null,
      "outputs": [
        {
          "output_type": "stream",
          "name": "stdout",
          "text": [
            "Decision Tree Accuracy: 0.6214285714285714\n",
            "Decision Tree Precision: 0.6180446400502987\n",
            "Decision Tree Recall: 0.6269132653061225\n",
            "Decision Tree F1 Score: 0.6224473642551843\n"
          ]
        }
      ]
    },
    {
      "cell_type": "markdown",
      "source": [
        "# **BEST MODEL**\n",
        "\n",
        "**Accuracy:** This is a measure of how how often the trained model makes the correct predidition.\n",
        "\n",
        "**Recall:** This is the measure of how often the model identifies actual positives.\n",
        "\n",
        "**Precision:** The precision measure gives us information on how often the model`s positive predictions are actually correct.\n",
        "\n",
        "**F1 score:** This is the measure of the orrall performance of the model calculated using the precision and recall.\n",
        "\n",
        "\n",
        "Support vector machines was the best model with acuuracy of SVM Accuracy: 0.7265079365079365 SVM Precision: 0.7335537190082645 SVM Recall: 0.7075892857142857 SVM F1 Score: 0.72033760753124 as its results. With logistic regression coming out second in best predictions, which is not surprising as the two work reall well on binary classification though they are simple models."
      ],
      "metadata": {
        "id": "GXVYnNESy4VH"
      }
    },
    {
      "cell_type": "markdown",
      "source": [
        "# **SUPPORT VECTOR MACHINES GRID SEARCH**\n",
        "\n",
        "I started by creating a grid of hyperparameter values that will be evaluated as each point in the grid represents a different combination of hyperparatameter values.This is done to find the best hyperparaters for the model to improve its performance for this model."
      ],
      "metadata": {
        "id": "AHUNsyLpmJfP"
      }
    },
    {
      "cell_type": "code",
      "source": [
        "# Creating a dictionary with specific values to try for each hyperparameter\n",
        "param_grid = {\n",
        "    \"kernel\": [\"linear\", \"poly\", \"rbf\", \"sigmoid\"],\n",
        "    \"C\": [0.1, 1, 10, 100],\n",
        "}\n",
        "\n",
        "# Creating a Grid Search Object:\n",
        "grid_search = GridSearchCV(SVC(), param_grid, cv=5, n_jobs=-1)\n",
        "\n",
        "# Fitting the Grid Search\n",
        "grid_search.fit(X_train_scaled, y_train)"
      ],
      "metadata": {
        "id": "ySjcIoCLllBi",
        "colab": {
          "base_uri": "https://localhost:8080/",
          "height": 117
        },
        "outputId": "07646d16-83f2-464e-c1ac-725edc941fde"
      },
      "execution_count": null,
      "outputs": [
        {
          "output_type": "execute_result",
          "data": {
            "text/plain": [
              "GridSearchCV(cv=5, estimator=SVC(), n_jobs=-1,\n",
              "             param_grid={'C': [0.1, 1, 10, 100],\n",
              "                         'kernel': ['linear', 'poly', 'rbf', 'sigmoid']})"
            ],
            "text/html": [
              "<style>#sk-container-id-1 {color: black;background-color: white;}#sk-container-id-1 pre{padding: 0;}#sk-container-id-1 div.sk-toggleable {background-color: white;}#sk-container-id-1 label.sk-toggleable__label {cursor: pointer;display: block;width: 100%;margin-bottom: 0;padding: 0.3em;box-sizing: border-box;text-align: center;}#sk-container-id-1 label.sk-toggleable__label-arrow:before {content: \"▸\";float: left;margin-right: 0.25em;color: #696969;}#sk-container-id-1 label.sk-toggleable__label-arrow:hover:before {color: black;}#sk-container-id-1 div.sk-estimator:hover label.sk-toggleable__label-arrow:before {color: black;}#sk-container-id-1 div.sk-toggleable__content {max-height: 0;max-width: 0;overflow: hidden;text-align: left;background-color: #f0f8ff;}#sk-container-id-1 div.sk-toggleable__content pre {margin: 0.2em;color: black;border-radius: 0.25em;background-color: #f0f8ff;}#sk-container-id-1 input.sk-toggleable__control:checked~div.sk-toggleable__content {max-height: 200px;max-width: 100%;overflow: auto;}#sk-container-id-1 input.sk-toggleable__control:checked~label.sk-toggleable__label-arrow:before {content: \"▾\";}#sk-container-id-1 div.sk-estimator input.sk-toggleable__control:checked~label.sk-toggleable__label {background-color: #d4ebff;}#sk-container-id-1 div.sk-label input.sk-toggleable__control:checked~label.sk-toggleable__label {background-color: #d4ebff;}#sk-container-id-1 input.sk-hidden--visually {border: 0;clip: rect(1px 1px 1px 1px);clip: rect(1px, 1px, 1px, 1px);height: 1px;margin: -1px;overflow: hidden;padding: 0;position: absolute;width: 1px;}#sk-container-id-1 div.sk-estimator {font-family: monospace;background-color: #f0f8ff;border: 1px dotted black;border-radius: 0.25em;box-sizing: border-box;margin-bottom: 0.5em;}#sk-container-id-1 div.sk-estimator:hover {background-color: #d4ebff;}#sk-container-id-1 div.sk-parallel-item::after {content: \"\";width: 100%;border-bottom: 1px solid gray;flex-grow: 1;}#sk-container-id-1 div.sk-label:hover label.sk-toggleable__label {background-color: #d4ebff;}#sk-container-id-1 div.sk-serial::before {content: \"\";position: absolute;border-left: 1px solid gray;box-sizing: border-box;top: 0;bottom: 0;left: 50%;z-index: 0;}#sk-container-id-1 div.sk-serial {display: flex;flex-direction: column;align-items: center;background-color: white;padding-right: 0.2em;padding-left: 0.2em;position: relative;}#sk-container-id-1 div.sk-item {position: relative;z-index: 1;}#sk-container-id-1 div.sk-parallel {display: flex;align-items: stretch;justify-content: center;background-color: white;position: relative;}#sk-container-id-1 div.sk-item::before, #sk-container-id-1 div.sk-parallel-item::before {content: \"\";position: absolute;border-left: 1px solid gray;box-sizing: border-box;top: 0;bottom: 0;left: 50%;z-index: -1;}#sk-container-id-1 div.sk-parallel-item {display: flex;flex-direction: column;z-index: 1;position: relative;background-color: white;}#sk-container-id-1 div.sk-parallel-item:first-child::after {align-self: flex-end;width: 50%;}#sk-container-id-1 div.sk-parallel-item:last-child::after {align-self: flex-start;width: 50%;}#sk-container-id-1 div.sk-parallel-item:only-child::after {width: 0;}#sk-container-id-1 div.sk-dashed-wrapped {border: 1px dashed gray;margin: 0 0.4em 0.5em 0.4em;box-sizing: border-box;padding-bottom: 0.4em;background-color: white;}#sk-container-id-1 div.sk-label label {font-family: monospace;font-weight: bold;display: inline-block;line-height: 1.2em;}#sk-container-id-1 div.sk-label-container {text-align: center;}#sk-container-id-1 div.sk-container {/* jupyter's `normalize.less` sets `[hidden] { display: none; }` but bootstrap.min.css set `[hidden] { display: none !important; }` so we also need the `!important` here to be able to override the default hidden behavior on the sphinx rendered scikit-learn.org. See: https://github.com/scikit-learn/scikit-learn/issues/21755 */display: inline-block !important;position: relative;}#sk-container-id-1 div.sk-text-repr-fallback {display: none;}</style><div id=\"sk-container-id-1\" class=\"sk-top-container\"><div class=\"sk-text-repr-fallback\"><pre>GridSearchCV(cv=5, estimator=SVC(), n_jobs=-1,\n",
              "             param_grid={&#x27;C&#x27;: [0.1, 1, 10, 100],\n",
              "                         &#x27;kernel&#x27;: [&#x27;linear&#x27;, &#x27;poly&#x27;, &#x27;rbf&#x27;, &#x27;sigmoid&#x27;]})</pre><b>In a Jupyter environment, please rerun this cell to show the HTML representation or trust the notebook. <br />On GitHub, the HTML representation is unable to render, please try loading this page with nbviewer.org.</b></div><div class=\"sk-container\" hidden><div class=\"sk-item sk-dashed-wrapped\"><div class=\"sk-label-container\"><div class=\"sk-label sk-toggleable\"><input class=\"sk-toggleable__control sk-hidden--visually\" id=\"sk-estimator-id-1\" type=\"checkbox\" ><label for=\"sk-estimator-id-1\" class=\"sk-toggleable__label sk-toggleable__label-arrow\">GridSearchCV</label><div class=\"sk-toggleable__content\"><pre>GridSearchCV(cv=5, estimator=SVC(), n_jobs=-1,\n",
              "             param_grid={&#x27;C&#x27;: [0.1, 1, 10, 100],\n",
              "                         &#x27;kernel&#x27;: [&#x27;linear&#x27;, &#x27;poly&#x27;, &#x27;rbf&#x27;, &#x27;sigmoid&#x27;]})</pre></div></div></div><div class=\"sk-parallel\"><div class=\"sk-parallel-item\"><div class=\"sk-item\"><div class=\"sk-label-container\"><div class=\"sk-label sk-toggleable\"><input class=\"sk-toggleable__control sk-hidden--visually\" id=\"sk-estimator-id-2\" type=\"checkbox\" ><label for=\"sk-estimator-id-2\" class=\"sk-toggleable__label sk-toggleable__label-arrow\">estimator: SVC</label><div class=\"sk-toggleable__content\"><pre>SVC()</pre></div></div></div><div class=\"sk-serial\"><div class=\"sk-item\"><div class=\"sk-estimator sk-toggleable\"><input class=\"sk-toggleable__control sk-hidden--visually\" id=\"sk-estimator-id-3\" type=\"checkbox\" ><label for=\"sk-estimator-id-3\" class=\"sk-toggleable__label sk-toggleable__label-arrow\">SVC</label><div class=\"sk-toggleable__content\"><pre>SVC()</pre></div></div></div></div></div></div></div></div></div></div>"
            ]
          },
          "metadata": {},
          "execution_count": 28
        }
      ]
    },
    {
      "cell_type": "code",
      "source": [
        "# Evaluate the best model on the test data\n",
        "y_pred_best = grid_search.predict(X_test_scaled)"
      ],
      "metadata": {
        "id": "Y59NzRL6q19h"
      },
      "execution_count": null,
      "outputs": []
    },
    {
      "cell_type": "code",
      "source": [
        "# Calculation of the accuracy, precision, recall, and F1 score of the best model\n",
        "accuracy_best = accuracy_score(y_test, y_pred_best)\n",
        "precision_best = precision_score(y_test, y_pred_best)\n",
        "recall_best = recall_score(y_test, y_pred_best)\n",
        "f1_best = f1_score(y_test, y_pred_best)"
      ],
      "metadata": {
        "id": "I2apKC93o1YV"
      },
      "execution_count": null,
      "outputs": []
    },
    {
      "cell_type": "code",
      "source": [
        "print(\"accuracy :\" , accuracy_best)\n",
        "print(\"precision :\", precision_best)\n",
        "print(\"recall :\", recall_best)\n",
        "print(\"f1 :\", f1_best)"
      ],
      "metadata": {
        "colab": {
          "base_uri": "https://localhost:8080/"
        },
        "id": "iyRqnx17gNcL",
        "outputId": "ba2fe27a-8e80-4a6c-a24e-a1ec0e523d3a"
      },
      "execution_count": null,
      "outputs": [
        {
          "output_type": "stream",
          "name": "stdout",
          "text": [
            "accuracy : 0.7327210884353742\n",
            "precision : 0.7414512093411176\n",
            "recall : 0.7205187086316358\n",
            "f1 : 0.7308351031033774\n"
          ]
        }
      ]
    },
    {
      "cell_type": "markdown",
      "source": [
        "The grid search led to an increase in accuracy, the precison ,recall and the f1 score of the model due the algorithm being able to find the combination of hyperparameters that suit the dataset best. The accuracy was increased to accuracy : 0.7327210884353742 ."
      ],
      "metadata": {
        "id": "XVHLmk58yVco"
      }
    },
    {
      "cell_type": "markdown",
      "source": [
        "# **CONCLUSION**\n",
        "\n",
        "IN my conclusion the SVM classifier was a very good model and the grid search model worked reall well for predicting whether or not a client has a proness to cardiovascular disease or not.Given we got a precision of 74.15%,which translates to only 25% false positives. I would not recomend this model for commercial use due to its low accuracy not being as tolentable when dealing with human lives. For future improvements i would use more data to train my model, include more useful feature in traing the models and try more models and using gri search on all to see if they can out perform the SVM when grid search is applied to them."
      ],
      "metadata": {
        "id": "jZznW1iYmR_7"
      }
    },
    {
      "cell_type": "code",
      "source": [],
      "metadata": {
        "id": "eM7QGasopD8x"
      },
      "execution_count": null,
      "outputs": []
    }
  ]
}